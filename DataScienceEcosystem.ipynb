{
 "cells": [
  {
   "cell_type": "markdown",
   "id": "16b34d99-522e-42fa-884d-6b0852eead7d",
   "metadata": {
    "tags": []
   },
   "source": [
    "# DataScience Tools And Ecosystem"
   ]
  },
  {
   "cell_type": "markdown",
   "id": "65ae9df2-b7b6-4eba-80ec-7e6d91fee4e3",
   "metadata": {},
   "source": [
    "In This Note Book DataScciene Tools And EcoSystem are Summerized"
   ]
  },
  {
   "cell_type": "markdown",
   "id": "ae2a3792-b693-44cb-91bf-1aa673a0af41",
   "metadata": {},
   "source": [
    "###### Some Of The Most Important Languages That Data Scientists Use Are\n",
    "1. Python\n",
    "2. R\n",
    "3. Java\n",
    "4. Scala\n",
    "5. Spark\n",
    "6. SQL"
   ]
  },
  {
   "cell_type": "markdown",
   "id": "178510c4-6964-40a7-8413-e8343a648c13",
   "metadata": {},
   "source": [
    "###### Some Of The Most ommomnly Used Data Science Libraries Are :\n",
    "1. Pandas\n",
    "2. Numpy\n",
    "3. TensorFlow"
   ]
  },
  {
   "cell_type": "markdown",
   "id": "c3632e6b-f322-47dd-ac9c-681e4f21164f",
   "metadata": {
    "tags": []
   },
   "source": [
    "| Data Science Tools |\n",
    "| ------------------ |\n",
    "| R Studio |\n",
    "| Git Hub |\n",
    "| MySQL |"
   ]
  },
  {
   "cell_type": "markdown",
   "id": "9d6ed157-2e0c-4170-83fa-49adb39596ee",
   "metadata": {},
   "source": [
    "### Below Are Theree Examples Of Arithmatic Operation In Python"
   ]
  },
  {
   "cell_type": "code",
   "execution_count": 13,
   "id": "e341b56b-95cf-47a0-bb70-fbf3beced8ce",
   "metadata": {
    "tags": []
   },
   "outputs": [
    {
     "name": "stdout",
     "output_type": "stream",
     "text": [
      "17\n"
     ]
    }
   ],
   "source": [
    "print((3*4)+5)\n",
    "#this is a simple Expression To Multiply then add Numbers"
   ]
  },
  {
   "cell_type": "code",
   "execution_count": 14,
   "id": "584359e9-924c-471b-a491-4621e92195e3",
   "metadata": {
    "tags": []
   },
   "outputs": [
    {
     "name": "stdout",
     "output_type": "stream",
     "text": [
      "3.3333333333333335\n"
     ]
    }
   ],
   "source": [
    "#this will convert 200minutes into hours by dividing By 60\n",
    "print(200/60)"
   ]
  },
  {
   "cell_type": "markdown",
   "id": "368376de-06b2-4c85-8915-62039953d8b5",
   "metadata": {},
   "source": [
    "**Objectives**\n",
    "+ Populor Languages In Python\n",
    "+ Populor Libraries\n",
    "+ Popular Tools\n",
    "+ Arithmatic Operations In python\n",
    "+ CCovert Minutes into Hours"
   ]
  },
  {
   "cell_type": "markdown",
   "id": "23096770-dfa0-4840-a41c-43b6bd93a921",
   "metadata": {
    "tags": []
   },
   "source": [
    "## Authours\n",
    "Muhammad Athar"
   ]
  }
 ],
 "metadata": {
  "kernelspec": {
   "display_name": "Python 3 (ipykernel)",
   "language": "python",
   "name": "python3"
  },
  "language_info": {
   "codemirror_mode": {
    "name": "ipython",
    "version": 3
   },
   "file_extension": ".py",
   "mimetype": "text/x-python",
   "name": "python",
   "nbconvert_exporter": "python",
   "pygments_lexer": "ipython3",
   "version": "3.11.5"
  }
 },
 "nbformat": 4,
 "nbformat_minor": 5
}
